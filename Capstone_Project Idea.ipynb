{
 "cells": [
  {
   "cell_type": "markdown",
   "metadata": {},
   "source": [
    "### I will be working on solving a current problem faced by \"airbnb\" using Data Science."
   ]
  },
  {
   "cell_type": "markdown",
   "metadata": {},
   "source": [
    "### Few of the problem statements are:\n",
    "#### 1) Help airbnb identify cities where it should dedicate its marketing resources\n",
    "#### 2) Help airbnb predict in which country would a first time airbnb user would be making their booking\n"
   ]
  },
  {
   "cell_type": "markdown",
   "metadata": {},
   "source": [
    "### Here are the links to the datasets I have found:\n",
    "#### https://www.kaggle.com/c/airbnb-recruiting-new-user-bookings/data\n",
    "#### http://insideairbnb.com/get-the-data.html\n",
    "#### http://tomslee.net/airbnb-data"
   ]
  },
  {
   "cell_type": "code",
   "execution_count": null,
   "metadata": {
    "collapsed": true
   },
   "outputs": [],
   "source": []
  }
 ],
 "metadata": {
  "anaconda-cloud": {},
  "kernelspec": {
   "display_name": "Python [conda env:dsi]",
   "language": "python",
   "name": "conda-env-dsi-py"
  },
  "language_info": {
   "codemirror_mode": {
    "name": "ipython",
    "version": 2
   },
   "file_extension": ".py",
   "mimetype": "text/x-python",
   "name": "python",
   "nbconvert_exporter": "python",
   "pygments_lexer": "ipython2",
   "version": "2.7.12"
  }
 },
 "nbformat": 4,
 "nbformat_minor": 1
}
